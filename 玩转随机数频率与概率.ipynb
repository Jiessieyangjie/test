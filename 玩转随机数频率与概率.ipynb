{
 "cells": [
  {
   "cell_type": "markdown",
   "metadata": {},
   "source": [
    "# 训练营——机器学习L1系列课\n",
    "## 数学与统计\n",
    "## 玩转随机数频率与概率\n",
    "<br>\n",
    "这个项目中，我们将生成一些随机数，并计算这些随机数出现的频率和概率。<br>\n",
    "我们一起来完成以下代码过程。\n",
    "\n",
    "> **提示**：这样的文字将会指导你如何使用 jupyter Notebook 来完成项目。"
   ]
  },
  {
   "cell_type": "markdown",
   "metadata": {},
   "source": [
    "### 生成10个随机数并计算频率\n",
    "<br>\n",
    "使用random函数库生成10个[1:10]之间的随机整数，并且输出1到10每个数字出现的频率。<br>在如下有# TODO 提示的地方，将代码补全，实现注释中所要求的功能。\n",
    "> **提示**：你可以通过单击代码区域，然后使用键盘快捷键 **Shift+Enter** 或 **Shift+Return** 来运行代码。或者在选择代码后使用**执行**（run cell）按钮执行代码。"
   ]
  },
  {
   "cell_type": "code",
   "execution_count": null,
   "metadata": {
    "collapsed": true
   },
   "outputs": [],
   "source": [
    "# TODO \n",
    "# 导入random函数库\n",
    "\n",
    "\n",
    "i = 1\n",
    "list = []\n",
    "\n",
    "while True :\n",
    "    \n",
    "    # TODO\n",
    "    # 生成一个1到10的随机整数a\n",
    "    # 将a添加在列表 list 中\n",
    "    \n",
    "    \n",
    "    i += 1\n",
    "    \n",
    "    # TODO\n",
    "    # 设置跳出循环的条件，使得列表 list 中添加的随机数个数为10\n",
    "    # 满足循环条件时跳出循环\n",
    "    \n",
    "    \n",
    "    \n",
    "for i in range(1,11):\n",
    "     \n",
    "    # TODO\n",
    "    # 输出1到10每个数字出现的频率\n",
    "    # 格式：eg.数字1出现的频率为：0.1\n",
    "    "
   ]
  },
  {
   "cell_type": "markdown",
   "metadata": {
    "collapsed": true
   },
   "source": [
    "### 修改随机数个数\n",
    "使用以上代码将随机数个数改为10000，观察每个数字出现的频率，并且写出结论。"
   ]
  },
  {
   "cell_type": "code",
   "execution_count": null,
   "metadata": {
    "collapsed": true
   },
   "outputs": [],
   "source": [
    "# TODO\n",
    "# 复制并修改以上代码，生成10000个随机数\n",
    "# 输出1到10每个数字出现的频率\n",
    "\n",
    "\n",
    "\n",
    "\n"
   ]
  },
  {
   "cell_type": "markdown",
   "metadata": {
    "collapsed": true
   },
   "source": [
    "#### # TODO 得出结论"
   ]
  },
  {
   "cell_type": "markdown",
   "metadata": {},
   "source": []
  }
 ],
 "metadata": {
  "kernelspec": {
   "display_name": "Python 3",
   "language": "python",
   "name": "python3"
  },
  "language_info": {
   "codemirror_mode": {
    "name": "ipython",
    "version": 3
   },
   "file_extension": ".py",
   "mimetype": "text/x-python",
   "name": "python",
   "nbconvert_exporter": "python",
   "pygments_lexer": "ipython3",
   "version": "3.6.3"
  }
 },
 "nbformat": 4,
 "nbformat_minor": 2
}
